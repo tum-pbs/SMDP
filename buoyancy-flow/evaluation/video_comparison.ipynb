{
 "cells": [
  {
   "cell_type": "markdown",
   "source": [
    "## Visualize our Method and Baselines (LBFGS, DPS) in a Video\n",
    "\n",
    "Load the results of our method and the baselines (LBFGS, DPS) and visualize them in a video. "
   ],
   "metadata": {
    "collapsed": false
   },
   "id": "601b166e5eb1bad5"
  },
  {
   "cell_type": "code",
   "execution_count": 1,
   "outputs": [],
   "source": [
    "import pickle\n",
    "\n",
    "# LBFGS\n",
    "file_lbfgs = 'github/smdp/buoyancy-flow/evaluation/results/results_lbfgs.pkl'\n",
    "with open(file_lbfgs, 'rb') as f:\n",
    "    data_lbfgs = pickle.load(f)\n",
    "    \n",
    "# DPS\n",
    "file_dps = 'github/smdp/buoyancy-flow/evaluation/results/results_dps.pkl'\n",
    "with open(file_dps, 'rb') as f:\n",
    "    data_dps = pickle.load(f)\n",
    "    \n",
    "# Our Method (ODE, SDE with separate updates)\n",
    "file_ours = 'github/smdp/buoyancy-flow/evaluation/results/results_ours.pkl'\n",
    "with open(file_ours, 'rb') as f:\n",
    "    data_ours = pickle.load(f)"
   ],
   "metadata": {
    "collapsed": false,
    "ExecuteTime": {
     "end_time": "2023-11-03T11:27:13.985061100Z",
     "start_time": "2023-11-03T11:27:13.801215600Z"
    }
   },
   "id": "8bd43b836805c4f9"
  },
  {
   "cell_type": "markdown",
   "source": [
    "This code was used to convert the old data format to the new format.  "
   ],
   "metadata": {
    "collapsed": false
   },
   "id": "f3587f8e853ed614"
  },
  {
   "cell_type": "code",
   "execution_count": 2,
   "outputs": [],
   "source": [
    "# data_ours_new = {}\n",
    "# for key in data_ours[0.01].keys():\n",
    "#     data_ours_new[key] = {}\n",
    "#     data_ours_new[key]['ground_truth'] = data_ours[0.01][key]['ground_truth']\n",
    "#     data_ours_new[key]['reverse_sde_no_noise'] = data_ours[0.01][key]['reverse_sde_no_noise']\n",
    "#     data_ours_new[key]['reverse_sde_0'] = data_ours[0.01][key]['reverse_sde_0']\n",
    "#     data_ours_new[key]['reverse_sde_1'] = data_ours[0.01][key]['reverse_sde_1']\n",
    "#     data_ours_new[key]['reverse_sde_2'] = data_ours[0.01][key]['reverse_sde_2']\n",
    "#     \n",
    "#     data_ours_new[key]['reverse_sde_no_noise_simu'] = data_ours[0.01][key]['forward'][30]['reverse_sde_no_noise']\n",
    "#     data_ours_new[key]['reverse_sde_0_simu'] = data_ours[0.01][key]['forward'][30]['reverse_sde_0']\n",
    "#     data_ours_new[key]['reverse_sde_1_simu'] = data_ours[0.01][key]['forward'][30]['reverse_sde_1']\n",
    "#     data_ours_new[key]['reverse_sde_2_simu'] = data_ours[0.01][key]['forward'][30]['reverse_sde_2']\n",
    "#     \n",
    "# # save with pickle\n",
    "# file_ours_new = 'github/smdp/buoyancy-flow/evaluation/results/results_ours.pkl'\n",
    "# with open(file_ours_new, 'wb') as f:\n",
    "#     pickle.dump(data_ours_new, f)"
   ],
   "metadata": {
    "collapsed": false,
    "ExecuteTime": {
     "end_time": "2023-11-03T11:27:14.023602200Z",
     "start_time": "2023-11-03T11:27:13.988071500Z"
    }
   },
   "id": "50869ec2c5221cd3"
  },
  {
   "cell_type": "markdown",
   "source": [
    "This is the index/key we want to plot."
   ],
   "metadata": {
    "collapsed": false
   },
   "id": "9aa8da67a6ec482f"
  },
  {
   "cell_type": "code",
   "execution_count": 3,
   "outputs": [],
   "source": [
    "idx = '3'\n",
    "file = 'github/smdp/buoyancy-flow/data/smoke_plumes_test_r0.h5'"
   ],
   "metadata": {
    "collapsed": false,
    "ExecuteTime": {
     "end_time": "2023-11-03T11:27:14.024212400Z",
     "start_time": "2023-11-03T11:27:14.023602200Z"
    }
   },
   "id": "312fa4dc59551714"
  },
  {
   "cell_type": "markdown",
   "source": [
    "Define the data we want to plot and the plotting function."
   ],
   "metadata": {
    "collapsed": false
   },
   "id": "a5645bd88aa7915b"
  },
  {
   "cell_type": "code",
   "execution_count": 4,
   "outputs": [],
   "source": [
    "import numpy as np\n",
    "import matplotlib.pyplot as plt\n",
    "\n",
    "DT = 0.01\n",
    "\n",
    "data = {\n",
    "    'lbfgs': data_lbfgs[(file, idx)],\n",
    "    'dps': data_dps[(file, idx)],\n",
    "    'ours': data_ours[idx]['ground_truth'],\n",
    "    'ours_ode': data_ours[idx]['reverse_sde_no_noise'],\n",
    "    'ours_sde': data_ours[idx]['reverse_sde_0'],\n",
    "    'ours_ode_simu': data_ours[idx]['reverse_sde_no_noise_simu'],\n",
    "    'ours_sde_0_simu': data_ours[idx]['reverse_sde_0_simu'],\n",
    "    'ground_truth' : data_ours[idx]['ground_truth']\n",
    "}\n",
    "\n",
    "def fill_axis(ax, data, title, norm=None):\n",
    "    \n",
    "    marker_idx = 0\n",
    "    mask_idx = 3\n",
    "    \n",
    "    if norm is None:\n",
    "        vmin = np.min(data[marker_idx])\n",
    "        vmax = np.max(data[marker_idx])\n",
    "    else:\n",
    "        vmin, vmax = norm\n",
    "        \n",
    "    data_with_mask = data[marker_idx] * data[mask_idx] + (1-data[mask_idx]) * vmax\n",
    "    ax.imshow(np.flip(data_with_mask[0], axis=0), cmap='jet', vmin = vmin, vmax = vmax)\n",
    "     \n",
    "    ax.set_xticks([])\n",
    "    ax.set_yticks([])\n",
    "\n",
    "    ax.set_xlabel(title)\n",
    "\n",
    "def plot_frame(data, title, norm=None):\n",
    "    \n",
    "    height = 3\n",
    "    width = 15\n",
    "    dpi = 100\n",
    "    \n",
    "    lbfgs = data['lbfgs']\n",
    "    dps = data['dps']\n",
    "    ours_ode = data['ours_ode']\n",
    "    ours_sde = data['ours_sde']\n",
    "    ground_truth = data['ground_truth']\n",
    "    \n",
    "    fig, axes = plt.subplots(1, 5, figsize=(width, height))\n",
    "    \n",
    "    fill_axis(axes[0], ground_truth, 'Ground truth', norm=norm)\n",
    "    fill_axis(axes[1], ours_ode, 'Ours (ODE)', norm=norm)\n",
    "    fill_axis(axes[2], ours_sde, 'Ours (SDE)', norm=norm)\n",
    "    fill_axis(axes[3], lbfgs, 'LBFGS', norm=norm)\n",
    "    fill_axis(axes[4], dps, 'DPS', norm=norm)\n",
    "    \n",
    "    fig.suptitle(title)\n",
    "    \n",
    "    fig.canvas.draw()\n",
    "    image = np.frombuffer(fig.canvas.tostring_rgb(), dtype='uint8')\n",
    "    \n",
    "    plt.close(fig)\n",
    "    \n",
    "    return image.reshape(dpi * height, dpi * width, 3)\n",
    "    \n",
    "def make_video(data):\n",
    "    \n",
    "    # backwards\n",
    " \n",
    "    frames = []\n",
    "    \n",
    "    vmin = np.min(data['ground_truth'][0][0])\n",
    "    vmax = np.max(data['ground_truth'][0][0])\n",
    "    norm = (vmin, vmax)\n",
    " \n",
    "    for time_idx in range(31):\n",
    "    \n",
    "        frame = {\n",
    "            'lbfgs': data['lbfgs'][0],\n",
    "            'dps': data['dps'][0],\n",
    "            'ours_ode': data['ours_ode'][time_idx],\n",
    "            'ours_sde': data['ours_sde'][time_idx],\n",
    "            'ground_truth' : data['ground_truth'][time_idx]\n",
    "        }\n",
    "        \n",
    "        frames.append(plot_frame(frame, 't = {:.2f}'.format(0.65 - time_idx * DT), norm=norm))\n",
    "    \n",
    "    # add 5 frames in the beginning\n",
    "    frames = [frames[0]]*5 + frames\n",
    "    \n",
    "    # add 20 frames for the solution, pause\n",
    "    frames = frames + [frames[-1]]*20\n",
    "    \n",
    "    # forwards\n",
    "    \n",
    "    for time_idx in range(31):\n",
    "\n",
    "        frame = {\n",
    "            'lbfgs': data['lbfgs'][time_idx],\n",
    "            'dps': data['dps'][time_idx],\n",
    "            'ours_ode': data['ours_ode_simu'][time_idx],\n",
    "            'ours_sde': data['ours_sde_0_simu'][time_idx],\n",
    "            'ground_truth' : data['ground_truth'][::-1][34 + time_idx]\n",
    "        }\n",
    "        \n",
    "        frames.append(plot_frame(frame, 't = {:.2f}'.format(0.35 + time_idx * DT), norm=norm))\n",
    "        \n",
    "    # add 20 frames in the end\n",
    "    frames = frames + [frames[-1]]*20\n",
    "    \n",
    "    return frames"
   ],
   "metadata": {
    "collapsed": false,
    "ExecuteTime": {
     "end_time": "2023-11-03T11:27:14.330931100Z",
     "start_time": "2023-11-03T11:27:14.023602200Z"
    }
   },
   "id": "b31686b33cbe0bea"
  },
  {
   "cell_type": "markdown",
   "source": [
    "Get individual video frames."
   ],
   "metadata": {
    "collapsed": false
   },
   "id": "7fca78ed6e435bd0"
  },
  {
   "cell_type": "code",
   "execution_count": 5,
   "outputs": [],
   "source": [
    "frames = make_video(data)"
   ],
   "metadata": {
    "collapsed": false,
    "ExecuteTime": {
     "end_time": "2023-11-03T11:27:18.855342300Z",
     "start_time": "2023-11-03T11:27:14.406068600Z"
    }
   },
   "id": "1bd84e3013edd197"
  },
  {
   "cell_type": "markdown",
   "source": [
    "Save frames using moviepy as a .mp4 file."
   ],
   "metadata": {
    "collapsed": false
   },
   "id": "7d59fe1d3278b17a"
  },
  {
   "cell_type": "code",
   "execution_count": 6,
   "outputs": [
    {
     "name": "stdout",
     "output_type": "stream",
     "text": [
      "Moviepy - Building video github/smdp/buoyancy-flow/evaluation/videos/comparison_methods.mp4.\n",
      "Moviepy - Writing video github/smdp/buoyancy-flow/evaluation/videos/comparison_methods.mp4\n"
     ]
    },
    {
     "name": "stderr",
     "output_type": "stream",
     "text": [
      "                                                                                \r"
     ]
    },
    {
     "name": "stdout",
     "output_type": "stream",
     "text": [
      "Moviepy - Done !\n",
      "Moviepy - video ready github/smdp/buoyancy-flow/evaluation/videos/comparison_methods.mp4\n"
     ]
    }
   ],
   "source": [
    "import moviepy.editor as mp\n",
    "\n",
    "savename = 'github/smdp/buoyancy-flow/evaluation/videos/comparison_methods.mp4'\n",
    "\n",
    "clip = mp.ImageSequenceClip(frames, fps=8)\n",
    "    \n",
    "clip.write_videofile(savename, fps=8)\n",
    "\n"
   ],
   "metadata": {
    "collapsed": false,
    "ExecuteTime": {
     "end_time": "2023-11-03T11:27:20.103130200Z",
     "start_time": "2023-11-03T11:27:18.896109100Z"
    }
   },
   "id": "147b8886e59a3881"
  },
  {
   "cell_type": "markdown",
   "source": [
    "### Plot different solutions from SDE\n",
    "Based on the random noise of the SDE, we get different solutions. We plot three different solutions from the SDE at simulation step $t=0.35$.       "
   ],
   "metadata": {
    "collapsed": false
   },
   "id": "81f682e38e5b17b6"
  },
  {
   "cell_type": "code",
   "execution_count": 7,
   "outputs": [
    {
     "data": {
      "text/plain": "<Figure size 1600x400 with 4 Axes>",
      "image/png": "[encoded data removed]"
     },
     "metadata": {},
     "output_type": "display_data"
    }
   ],
   "source": [
    "import matplotlib.pyplot as plt \n",
    "\n",
    "fig, axes = plt.subplots(1, 4, figsize=(16, 4))\n",
    "\n",
    "time_idx = 30\n",
    "\n",
    "vmin = np.min(data_ours[idx]['ground_truth'][time_idx][0])\n",
    "vmax = np.max(data_ours[idx]['ground_truth'][time_idx][0])\n",
    "\n",
    "fill_axis(axes[0], data_ours[idx]['ground_truth'][time_idx], 'Ground truth')\n",
    "fill_axis(axes[1], data_ours[idx]['reverse_sde_0'][time_idx], 'SDE, realization 1', norm=(vmin, vmax))\n",
    "fill_axis(axes[2], data_ours[idx]['reverse_sde_1'][time_idx], 'SDE, realization 2', norm=(vmin, vmax))\n",
    "fill_axis(axes[3], data_ours[idx]['reverse_sde_2'][time_idx], 'SDE, realization 3', norm=(vmin, vmax))"
   ],
   "metadata": {
    "collapsed": false,
    "ExecuteTime": {
     "end_time": "2023-11-03T11:27:20.267308100Z",
     "start_time": "2023-11-03T11:27:20.103130200Z"
    }
   },
   "id": "5fe5308d62dadfc3"
  }
 ],
 "metadata": {
  "kernelspec": {
   "name": "smdp",
   "language": "python",
   "display_name": "smdp"
  },
  "language_info": {
   "codemirror_mode": {
    "name": "ipython",
    "version": 2
   },
   "file_extension": ".py",
   "mimetype": "text/x-python",
   "name": "python",
   "nbconvert_exporter": "python",
   "pygments_lexer": "ipython2",
   "version": "2.7.6"
  }
 },
 "nbformat": 4,
 "nbformat_minor": 5
}
