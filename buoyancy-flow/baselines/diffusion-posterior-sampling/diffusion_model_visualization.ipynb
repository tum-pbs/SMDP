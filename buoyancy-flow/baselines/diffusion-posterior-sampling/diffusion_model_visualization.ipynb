{
 "cells": [
  {
   "cell_type": "markdown",
   "source": [
    "# Sample and Visualize the Trained DDPM Model\n",
    "\n",
    "In this notebook, we load the pretrained diffusion model and sample from it. \n",
    "\n",
    "The diffusion model was trained a set of 200 simulation states comprised of marker field, velocity field, and obstacle mask at simulation time t=0.35. \n",
    "There is no noise for the obstacle masks, and they are concatenated with the other three input channels. \n",
    "Sampled states are visualized in this notebook."
   ],
   "metadata": {
    "collapsed": false
   },
   "id": "53c72d498ab00927"
  },
  {
   "cell_type": "markdown",
   "source": [
    "### Load the trained model\n",
    "Define model architecture of Unet:\n",
    " - channels: 4 channels in the input image (obstacle mask, marker field, velocity in x direction, velocity in y direction)\n",
    " - image_size: 64x64"
   ],
   "metadata": {
    "collapsed": false
   },
   "id": "aa7b6079e3bbf9b6"
  },
  {
   "cell_type": "code",
   "execution_count": 1,
   "outputs": [],
   "source": [
    "import torch\n",
    "\n",
    "import sys\n",
    "sys.path.append('github/smdp/buoyancy-flow/baselines/diffusion-posterior-sampling') \n",
    "from unet import Unet\n",
    "\n",
    "\n",
    "model_spec = {'channels': 4,\n",
    "              'image_size': 64,\n",
    "              'data_shape': (4, 64, 64),\n",
    "              'dim' : 64,\n",
    "              'dim_mults' : (1, 2, 2, 4,)}\n",
    "\n",
    "\n",
    "model = Unet(**model_spec)"
   ],
   "metadata": {
    "collapsed": false,
    "ExecuteTime": {
     "end_time": "2023-11-02T14:05:19.708595698Z",
     "start_time": "2023-11-02T14:05:18.480890935Z"
    }
   },
   "id": "87cf7d267dfe6089"
  },
  {
   "cell_type": "markdown",
   "source": [
    "Load the pretrained model weights"
   ],
   "metadata": {
    "collapsed": false
   },
   "id": "2744d9f6b7beb1e4"
  },
  {
   "cell_type": "code",
   "execution_count": 2,
   "outputs": [],
   "source": [
    "# file path for stored weights\n",
    "weight_file = 'github/diffusion-posterior-sampling-backup/results/ddpm-model-flow-2s3jcppm-20.pt'\n",
    "\n",
    "device = torch.device('cuda' if torch.cuda.is_available() else 'cpu')\n",
    "\n",
    "data = torch.load(weight_file,\n",
    "                  map_location=device)\n",
    "model.load_state_dict(data['model'])\n",
    "model = model.to(device)"
   ],
   "metadata": {
    "collapsed": false,
    "ExecuteTime": {
     "end_time": "2023-11-02T14:05:20.947035118Z",
     "start_time": "2023-11-02T14:05:19.745505964Z"
    }
   },
   "id": "765959f0dacc6730"
  },
  {
   "cell_type": "markdown",
   "source": [
    "### Sample from the trained model\n",
    "Before sampling, we define a mask for the obstacles which is used to condition the sampling. The mask is a 64x64 image with 1s in the obstacle region and 0s in the rest of the image."
   ],
   "metadata": {
    "collapsed": false
   },
   "id": "7a20f055fe6f835e"
  },
  {
   "cell_type": "code",
   "execution_count": 3,
   "outputs": [],
   "source": [
    "# define mask for obstacles\n",
    "obstacle_mask = torch.zeros((1, 64, 64)).to(device)"
   ],
   "metadata": {
    "collapsed": false,
    "ExecuteTime": {
     "end_time": "2023-11-02T14:05:20.949227814Z",
     "start_time": "2023-11-02T14:05:20.946007603Z"
    }
   },
   "id": "75ff2679514c435b"
  },
  {
   "cell_type": "code",
   "execution_count": 4,
   "outputs": [
    {
     "name": "stderr",
     "output_type": "stream",
     "text": [
      "100%|███████████████████████████████████████| 1000/1000 [00:10<00:00, 98.99it/s]\n"
     ]
    }
   ],
   "source": [
    "from sample import conditional_sampling\n",
    "import numpy as np\n",
    "\n",
    "samples = conditional_sampling(model, obstacle_mask, device)\n",
    "samples = samples[0].cpu().numpy()\n",
    "samples = np.flip(samples, axis=1)"
   ],
   "metadata": {
    "collapsed": false,
    "ExecuteTime": {
     "end_time": "2023-11-02T14:05:31.099876271Z",
     "start_time": "2023-11-02T14:05:20.951661150Z"
    }
   },
   "id": "238d73b5b722cc62"
  },
  {
   "cell_type": "markdown",
   "source": [
    "### Visualize data velocity and smoke/marker field\n",
    "\n",
    "Visualize marker field and velocity in x direction. The mask field is visualized as well. The mask field is to show the obstacles."
   ],
   "metadata": {
    "collapsed": false
   },
   "id": "1e25350eba13c6fb"
  },
  {
   "cell_type": "code",
   "execution_count": 6,
   "outputs": [
    {
     "data": {
      "text/plain": "<Figure size 800x400 with 2 Axes>",
      "image/png": "[encoded data removed]"
     },
     "metadata": {},
     "output_type": "display_data"
    }
   ],
   "source": [
    "import matplotlib.pyplot as plt\n",
    "import numpy as np\n",
    "\n",
    "fig, axes = plt.subplots(nrows=1, ncols=2, figsize=(8, 4)) \n",
    "\n",
    "marker_field = samples[1]\n",
    "velocity_x = samples[2]\n",
    "velocity_y = samples[3]\n",
    "mask = samples[0]\n",
    "\n",
    "vmin = np.min(marker_field)\n",
    "vmax = np.max(marker_field)\n",
    "marker_with_mask = marker_field + mask * vmax\n",
    "axes[0].imshow(marker_field, cmap='jet', vmin = vmin, vmax = vmax)\n",
    "axes[0].set_axis_off()\n",
    "axes[0].set_title('Marker field')   \n",
    "\n",
    "vmin = np.min(velocity_x)\n",
    "vmax = np.max(velocity_x)\n",
    "vel_x_with_mask = velocity_x + mask * vmax\n",
    "axes[1].imshow(vel_x_with_mask, cmap='jet', vmin = vmin, vmax = vmax)\n",
    "axes[1].set_axis_off()\n",
    "axes[1].set_title(r'Velocity field in $x$-direction')\n",
    "\n",
    "plt.show()"
   ],
   "metadata": {
    "collapsed": false,
    "ExecuteTime": {
     "end_time": "2023-11-02T14:06:53.118072278Z",
     "start_time": "2023-11-02T14:06:53.047541226Z"
    }
   },
   "id": "5ddd1edc1f04d1df"
  }
 ],
 "metadata": {
  "kernelspec": {
   "name": "smdp",
   "language": "python",
   "display_name": "smdp"
  },
  "language_info": {
   "codemirror_mode": {
    "name": "ipython",
    "version": 2
   },
   "file_extension": ".py",
   "mimetype": "text/x-python",
   "name": "python",
   "nbconvert_exporter": "python",
   "pygments_lexer": "ipython2",
   "version": "2.7.6"
  }
 },
 "nbformat": 4,
 "nbformat_minor": 5
}
