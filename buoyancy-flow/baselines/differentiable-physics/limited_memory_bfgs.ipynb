{
 "cells": [
  {
   "cell_type": "markdown",
   "source": [
    "# Optimization via Limited-memory BFGS and Differentiable Physics\n",
    "\n",
    "In this notebook, we optimize the initial state of the buoyancy-driven flow with obstacles simulation to match the final state of a simulation. We use the L-BFGS optimizer and PhiFlow for differentiable physics to optimize the initial state of a simulation to match the final state of a simulation. "
   ],
   "metadata": {
    "collapsed": false
   },
   "id": "fc08c40daac03942"
  },
  {
   "cell_type": "markdown",
   "source": [
    "### Setup imports and environment"
   ],
   "metadata": {
    "collapsed": false
   },
   "id": "a6fa673a2c8cd37a"
  },
  {
   "cell_type": "code",
   "execution_count": 8,
   "outputs": [],
   "source": [
    "import sys\n",
    "import phi.torch\n",
    "\n",
    "sys.path.append('github/smdp/buoyancy-flow') "
   ],
   "metadata": {
    "collapsed": false,
    "ExecuteTime": {
     "end_time": "2023-10-31T12:49:59.702766700Z",
     "start_time": "2023-10-31T12:49:59.663706Z"
    }
   },
   "id": "bb3e62888bc6713e"
  },
  {
   "cell_type": "markdown",
   "source": [
    "Load LPIPS for perceptual distance metric"
   ],
   "metadata": {
    "collapsed": false
   },
   "id": "9ce6fdcaa53a9873"
  },
  {
   "cell_type": "code",
   "execution_count": 9,
   "outputs": [],
   "source": [
    "# import LPIPS distance\n",
    "import evaluation.lpips as lpips"
   ],
   "metadata": {
    "collapsed": false,
    "ExecuteTime": {
     "end_time": "2023-10-31T12:50:00.135518400Z",
     "start_time": "2023-10-31T12:50:00.096434100Z"
    }
   },
   "id": "7a89702d70805025"
  },
  {
   "cell_type": "markdown",
   "source": [
    "Setup data from the test dataset"
   ],
   "metadata": {
    "collapsed": false
   },
   "id": "be8e66b304653c73"
  },
  {
   "cell_type": "code",
   "execution_count": 10,
   "outputs": [
    {
     "name": "stderr",
     "output_type": "stream",
     "text": [
      "Exception ignored in: <function DataLoader.__del__ at 0x7f3948c5e700>\n",
      "Traceback (most recent call last):\n",
      "  File \"/home/benjamin/projects/github/smdp/buoyancy-flow/dataloader_multi.py\", line 87, in __del__\n",
      "    self.h5files.close()\n",
      "AttributeError: 'dict' object has no attribute 'close'\n"
     ]
    },
    {
     "name": "stdout",
     "output_type": "stream",
     "text": [
      "Length: 5\n"
     ]
    }
   ],
   "source": [
    "import h5py\n",
    "\n",
    "# import dataloader\n",
    "from dataloader_multi import DataLoader\n",
    "\n",
    "file_test = 'github/smdp/buoyancy-flow/data/smoke_plumes_test_r0.h5'\n",
    "\n",
    "dataKeys = None      \n",
    "with h5py.File(file_test, 'r') as f:\n",
    "    dataKeys = list(f.keys())\n",
    "\n",
    "dataKeys = list(zip([file_test] * len(dataKeys), dataKeys))\n",
    "\n",
    "test_data = DataLoader([file_test], dataKeys, name='test', batchSize=1)"
   ],
   "metadata": {
    "collapsed": false,
    "ExecuteTime": {
     "end_time": "2023-10-31T12:50:00.525346200Z",
     "start_time": "2023-10-31T12:50:00.472511700Z"
    }
   },
   "id": "ae439244f10c19a7"
  },
  {
   "cell_type": "markdown",
   "source": [
    "### Optimization with L-BFGS\n",
    "First, we define the time of the initial state that we reconstruct (t=0.35) and the number of optimization steps of the L-BFGS optimizer (10). "
   ],
   "metadata": {
    "collapsed": false
   },
   "id": "42ff825e06b5225b"
  },
  {
   "cell_type": "code",
   "execution_count": 11,
   "outputs": [],
   "source": [
    "time_init = 35 # t=0.35 \n",
    "optimization_steps = 10\n",
    "\n",
    "params = {\n",
    "    'batch_size' : 1,\n",
    "    'DT' : 0.01,\n",
    "    't1': 0.65,\n",
    "    'time_init': time_init,\n",
    "    'optimization_steps': optimization_steps,\n",
    "}"
   ],
   "metadata": {
    "collapsed": false,
    "ExecuteTime": {
     "end_time": "2023-10-31T12:50:00.903266100Z",
     "start_time": "2023-10-31T12:50:00.869877400Z"
    }
   },
   "id": "ca24a945469cfc40"
  },
  {
   "cell_type": "code",
   "execution_count": 12,
   "outputs": [],
   "source": [
    "from physics_check import batch_inflow, physics_forward, batch_geometries_pre_phiflow\n",
    "from eval import eval_forward   \n",
    "from phi.torch.flow import *\n",
    "from tqdm import tqdm\n",
    "\n",
    "phi.math.backend.set_global_default_backend(phi.torch.TORCH) \n",
    "\n",
    "def optimize_sample(item, params):\n",
    "    \n",
    "    time_init = params['time_init'] \n",
    "    optimization_steps = params['optimization_steps']   \n",
    "    \n",
    "    simulation_metadata = {}\n",
    "    simulation_metadata['NSTEPS'] = int(params['t1'] / params['DT'])\n",
    "    simulation_metadata['INFLOW'] = batch_inflow(item['INFLOW'], batchSize=params['batch_size'])\n",
    "    simulation_metadata['INFLOW_1b'] = batch_inflow(item['INFLOW'], batchSize=1)\n",
    "    bounds = item['BOUNDS']\n",
    "    simulation_metadata['BOUNDS'] = Box(x=(bounds['_lower'][0], bounds['_upper'][0]),\n",
    "                                        y=(bounds['_lower'][1], bounds['_upper'][1]))\n",
    "    simulation_metadata['smoke_res'] = item['smoke_res']\n",
    "    simulation_metadata['v_res'] = item['v_res']\n",
    "    simulation_metadata['DT'] = params['DT']\n",
    "\n",
    "    obstacles = [item['obstacle_list']]\n",
    "    obstacles = batch_geometries_pre_phiflow(obstacles)\n",
    "\n",
    "    smoke_state = torch.asarray(item['smoke'], dtype=torch.float32)\n",
    "    vel_x_state = torch.asarray(item['vel_x'], dtype=torch.float32)\n",
    "    vel_y_state = torch.asarray(item['vel_y'], dtype=torch.float32)\n",
    "    mask_state = torch.asarray(item['mask'], dtype=torch.float32)\n",
    "\n",
    "    init_state = [smoke_state[0][None], vel_x_state[0][None], vel_y_state[0][None], mask_state[0][None]]\n",
    "    target_state = [smoke_state[-1][None].to('cuda:0'), vel_x_state[-1][None].to('cuda:0'),\n",
    "                    vel_y_state[-1][None].to('cuda:0')]\n",
    "\n",
    "    zero_smoke = torch.zeros_like(init_state[0]).to('cuda:0').clone().detach().requires_grad_(True)\n",
    "    zero_vel_x = torch.zeros_like(init_state[1]).to('cuda:0').clone().detach().requires_grad_(True)\n",
    "    zero_vel_y = torch.zeros_like(init_state[2]).to('cuda:0').clone().detach().requires_grad_(True)\n",
    "\n",
    "    forward_fn = physics_forward(simulation_metadata)\n",
    "    forward_fn = math.jit_compile(forward_fn)\n",
    "\n",
    "    _ = eval_forward(init_state, obstacles, simulation_metadata, physics_forward_fn=forward_fn, t0=0.0)\n",
    "\n",
    "    def loss_function(init_state_):\n",
    "\n",
    "        t0 = simulation_metadata['DT'] * time_init\n",
    "\n",
    "        init_state_.append(torch.zeros_like(init_state[3]).clone().detach().requires_grad_(False))\n",
    "\n",
    "        simulation_metadata['NSTEPS'] = int((params['t1'] - t0) / params['DT'])\n",
    "\n",
    "        out = eval_forward(init_state_, obstacles, simulation_metadata, physics_forward_fn=forward_fn, t0=t0)\n",
    "\n",
    "        smoke_out = out[-1][0][0]\n",
    "        vel_x_out = out[-1][1][0]\n",
    "        vel_y_out = out[-1][2][0]\n",
    "\n",
    "        smoke_target = target_state[0][0]\n",
    "        vel_x_target = target_state[1][0]\n",
    "        vel_y_target = target_state[2][0]\n",
    "\n",
    "        return torch.nn.functional.mse_loss(smoke_target, smoke_out) + torch.nn.functional.mse_loss(vel_x_target,\n",
    "                                                                                                    vel_x_out) + torch.nn.functional.mse_loss(\n",
    "            vel_y_target, vel_y_out)\n",
    "\n",
    "    lbfgs = optim.LBFGS([zero_smoke, zero_vel_x, zero_vel_y],\n",
    "                        history_size=10,\n",
    "                        max_iter=4,\n",
    "                        line_search_fn=\"strong_wolfe\")\n",
    "\n",
    "\n",
    "    def closure():\n",
    "        lbfgs.zero_grad()\n",
    "        objective = loss_function([zero_smoke, zero_vel_x, zero_vel_y])\n",
    "        objective.backward()\n",
    "        return objective\n",
    "\n",
    "\n",
    "    pbar = tqdm(range(optimization_steps))\n",
    "\n",
    "    for _ in pbar:\n",
    "        loss = loss_function([zero_smoke, zero_vel_x, zero_vel_y]).item()\n",
    "        lbfgs.step(closure)\n",
    "        pbar.set_description(\"Loss: %s\" % loss)\n",
    "\n",
    "    prediction = eval_forward([zero_smoke, zero_vel_x, zero_vel_y, init_state[3]], obstacles, simulation_metadata, physics_forward_fn=forward_fn, t0=simulation_metadata['DT'] * time_init)\n",
    "    \n",
    "    return [(marker_field.detach().cpu().numpy(), vel_x_field.detach().cpu().numpy(), \n",
    "             vel_y_field.detach().cpu().numpy(), mask_field.detach().cpu().numpy()) \n",
    "            for marker_field, vel_x_field, vel_y_field, mask_field in prediction]"
   ],
   "metadata": {
    "collapsed": false,
    "ExecuteTime": {
     "end_time": "2023-10-31T12:50:01.132496500Z",
     "start_time": "2023-10-31T12:50:01.069972600Z"
    }
   },
   "id": "1202132df69ff1be"
  },
  {
   "cell_type": "code",
   "execution_count": 13,
   "outputs": [
    {
     "name": "stdout",
     "output_type": "stream",
     "text": [
      "jit compile physics\n",
      "tracing physics forwards...\n",
      "tracing physics forwards...\n"
     ]
    },
    {
     "name": "stderr",
     "output_type": "stream",
     "text": [
      "Loss: 0.23229913413524628: 100%|████████████████| 10/10 [04:13<00:00, 25.31s/it]\n"
     ]
    },
    {
     "name": "stdout",
     "output_type": "stream",
     "text": [
      "jit compile physics\n",
      "tracing physics forwards...\n",
      "tracing physics forwards...\n"
     ]
    },
    {
     "name": "stderr",
     "output_type": "stream",
     "text": [
      "Loss: 0.33518481254577637: 100%|████████████████| 10/10 [03:44<00:00, 22.45s/it]\n"
     ]
    },
    {
     "name": "stdout",
     "output_type": "stream",
     "text": [
      "jit compile physics\n",
      "tracing physics forwards...\n",
      "tracing physics forwards...\n"
     ]
    },
    {
     "name": "stderr",
     "output_type": "stream",
     "text": [
      "Loss: 0.34439122676849365: 100%|████████████████| 10/10 [04:01<00:00, 24.18s/it]\n"
     ]
    },
    {
     "name": "stdout",
     "output_type": "stream",
     "text": [
      "jit compile physics\n",
      "tracing physics forwards...\n",
      "tracing physics forwards...\n"
     ]
    },
    {
     "name": "stderr",
     "output_type": "stream",
     "text": [
      "Loss: 0.1765131950378418: 100%|█████████████████| 10/10 [05:38<00:00, 33.89s/it]\n"
     ]
    },
    {
     "name": "stdout",
     "output_type": "stream",
     "text": [
      "jit compile physics\n",
      "tracing physics forwards...\n",
      "tracing physics forwards...\n"
     ]
    },
    {
     "name": "stderr",
     "output_type": "stream",
     "text": [
      "Loss: 0.27883967757225037: 100%|████████████████| 10/10 [04:03<00:00, 24.32s/it]\n"
     ]
    },
    {
     "name": "stdout",
     "output_type": "stream",
     "text": [
      "Reconstruction MSE:  0.20247265696525574\n",
      "LPIPS smoke:  0.543474805355072\n"
     ]
    }
   ],
   "source": [
    "results = {}\n",
    "\n",
    "reconstruction_MSE = 0\n",
    "lpips_smoke = 0\n",
    "\n",
    "for key in dataKeys:\n",
    "\n",
    "    item = test_data.load(key)\n",
    "\n",
    "    prediction = optimize_sample(item, params)\n",
    "\n",
    "    results[key] = prediction   \n",
    "\n",
    "    smoke_state = torch.asarray(item['smoke'], dtype=torch.float32)\n",
    "\n",
    "    reconstruction_MSE += torch.nn.functional.mse_loss(torch.tensor(prediction[-1][0][0]), smoke_state[-1]).item()\n",
    "\n",
    "    lpips_smoke += lpips.lpips_dist(prediction[0][0], smoke_state[time_init][None].numpy())\n",
    "\n",
    "lpips_smoke = lpips_smoke / len(dataKeys)\n",
    "reconstruction_MSE = reconstruction_MSE / len(dataKeys)\n",
    "\n",
    "print('Reconstruction MSE: ', reconstruction_MSE)\n",
    "print('LPIPS smoke: ', lpips_smoke)"
   ],
   "metadata": {
    "collapsed": false,
    "ExecuteTime": {
     "end_time": "2023-10-31T13:12:37.099224100Z",
     "start_time": "2023-10-31T12:50:01.306181100Z"
    }
   },
   "id": "e98bf4d269ce8596"
  },
  {
   "cell_type": "markdown",
   "source": [
    "### Save results"
   ],
   "metadata": {
    "collapsed": false
   },
   "id": "22a4827d5b2cc399"
  },
  {
   "cell_type": "code",
   "execution_count": 14,
   "outputs": [],
   "source": [
    "# save results to file\n",
    "import pickle   \n",
    "\n",
    "results_file = 'github/smdp/buoyancy-flow/evaluation/results/results_lbfgs.pkl'\n",
    "\n",
    "with open(results_file, 'wb') as f:\n",
    "    pickle.dump(results, f)"
   ],
   "metadata": {
    "collapsed": false,
    "ExecuteTime": {
     "end_time": "2023-10-31T13:12:37.099224100Z",
     "start_time": "2023-10-31T13:12:37.095220900Z"
    }
   },
   "id": "eaac12a261d33a4c"
  }
 ],
 "metadata": {
  "kernelspec": {
   "name": "smdp",
   "language": "python",
   "display_name": "smdp"
  },
  "language_info": {
   "codemirror_mode": {
    "name": "ipython",
    "version": 2
   },
   "file_extension": ".py",
   "mimetype": "text/x-python",
   "name": "python",
   "nbconvert_exporter": "python",
   "pygments_lexer": "ipython2",
   "version": "2.7.6"
  }
 },
 "nbformat": 4,
 "nbformat_minor": 5
}
