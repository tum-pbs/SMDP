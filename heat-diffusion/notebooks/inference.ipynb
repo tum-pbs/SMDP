{
 "cells": [
  {
   "cell_type": "markdown",
   "source": [
    "## Inference With Trained Model\n",
    "\n",
    "In this notebook, we perform inference via the probability flow (ODE) and reverse-time SDE using a pretrained model $s_\\theta$."
   ],
   "metadata": {
    "collapsed": false
   },
   "id": "987fbb8469af0c23"
  },
  {
   "cell_type": "code",
   "execution_count": 1,
   "outputs": [],
   "source": [
    "import sys\n",
    "import os\n",
    "\n",
    "sys.path.append(os.path.join(os.path.abspath(''), 'github', 'smdp', 'heat-diffusion'))\n",
    "\n",
    "from dataloader import *\n",
    "from train import * \n",
    "from optimizers.EmbeddedPhysics import *"
   ],
   "metadata": {
    "collapsed": false,
    "ExecuteTime": {
     "end_time": "2023-12-04T12:51:40.671612300Z",
     "start_time": "2023-12-04T12:51:38.676567800Z"
    }
   },
   "id": "ee6309678f4c234c"
  },
  {
   "cell_type": "markdown",
   "source": [
    "#### Setup simulation parameters\n",
    "\n",
    "First, we setup the environment and define the simulation parameters."
   ],
   "metadata": {
    "collapsed": false
   },
   "id": "835f7bca905199a1"
  },
  {
   "cell_type": "code",
   "execution_count": 2,
   "outputs": [],
   "source": [
    "resolution = 32\n",
    "noise_scaling = 0.1\n",
    "step_size = 0.01\n",
    "t1 = 0.2\n",
    "\n",
    "params = {'resolution': resolution, \n",
    "          'sample_key': jax.random.PRNGKey(0), \n",
    "          't1': t1, \n",
    "          't0': 0,\n",
    "          'inference' : {\n",
    "                'noise' : noise_scaling\n",
    "         },\n",
    "          'time_format' : 'linear',\n",
    "          'num_steps' : 32\n",
    "         }\n",
    "\n",
    "DT = step_size\n",
    "NSTEPS = int(t1 / DT)"
   ],
   "metadata": {
    "collapsed": false,
    "ExecuteTime": {
     "end_time": "2023-12-04T12:51:41.308393300Z",
     "start_time": "2023-12-04T12:51:41.300020300Z"
    }
   },
   "id": "5f33b7a59ee27885"
  },
  {
   "cell_type": "markdown",
   "source": [
    "The initial states are generated using the code in the `data/gaussian_random_fields.ipynb`."
   ],
   "metadata": {
    "collapsed": false
   },
   "id": "b734f51051e650bc"
  },
  {
   "cell_type": "code",
   "execution_count": 3,
   "outputs": [
    {
     "name": "stdout",
     "output_type": "stream",
     "text": [
      "Length: 4\n"
     ]
    }
   ],
   "source": [
    "from dataloader import DataLoader\n",
    "\n",
    "DATA_ROOT = os.path.join(os.path.abspath(''), 'github', 'smdp', 'heat-diffusion', 'data', 'files')\n",
    "NUM_ELEMENTS = 4\n",
    "\n",
    "dataset_name = '32/2d_gaussian_random_field_4'\n",
    "\n",
    "params['file'] = f'{DATA_ROOT}/{dataset_name}.h5'\n",
    "params['batch_size'] = NUM_ELEMENTS\n",
    "\n",
    "with h5py.File(params['file'], 'r') as f:\n",
    "    train_keys = list(f.keys())\n",
    "    train_keys = list(zip([params['file']] * len(train_keys), train_keys))\n",
    "    \n",
    "generator = DataLoader([params['file']], train_keys[:NUM_ELEMENTS], params['batch_size'], name='train', shuffle=False)\n",
    "\n",
    "data = generator.__getitem__(0)[:, :, :, 0]"
   ],
   "metadata": {
    "collapsed": false,
    "ExecuteTime": {
     "end_time": "2023-12-04T12:51:44.218501800Z",
     "start_time": "2023-12-04T12:51:43.576491200Z"
    }
   },
   "id": "cef43451e739c911"
  },
  {
   "cell_type": "code",
   "execution_count": 4,
   "outputs": [],
   "source": [
    "data_mean, data_std, data_min, data_max = generator.get_norm()\n",
    "generator.set_mean_and_std(data_mean, data_std)\n",
    "\n",
    "params['data_mean'] = data_mean\n",
    "params['data_std'] = data_std"
   ],
   "metadata": {
    "collapsed": false,
    "ExecuteTime": {
     "end_time": "2023-12-04T12:51:46.003429700Z",
     "start_time": "2023-12-04T12:51:44.801462600Z"
    }
   },
   "id": "b50e191e134a8a8e"
  },
  {
   "cell_type": "markdown",
   "source": [
    "### Load network and weights"
   ],
   "metadata": {
    "collapsed": false
   },
   "id": "4334f584fb03115c"
  },
  {
   "cell_type": "code",
   "execution_count": 5,
   "outputs": [
    {
     "name": "stdout",
     "output_type": "stream",
     "text": [
      "Tracing encoder decoder model...\n"
     ]
    }
   ],
   "source": [
    "shape = (1, resolution, resolution)\n",
    "forward_fn, params_ = get_model(shape)\n",
    "rng = jax.random.PRNGKey(2022)"
   ],
   "metadata": {
    "collapsed": false,
    "ExecuteTime": {
     "end_time": "2023-12-04T12:51:52.770574500Z",
     "start_time": "2023-12-04T12:51:47.581258500Z"
    }
   },
   "id": "709f013fb7e7a175"
  },
  {
   "cell_type": "code",
   "execution_count": 6,
   "outputs": [],
   "source": [
    "WEIGHT_PATH = os.path.join(os.path.abspath(''), 'github', 'smdp', 'heat-diffusion', 'weights', 'ojnepihc_r32_0080.p')\n",
    "\n",
    "with open(WEIGHT_PATH, 'rb') as file:\n",
    "    model_weights = pickle.load(file)"
   ],
   "metadata": {
    "collapsed": false,
    "ExecuteTime": {
     "end_time": "2023-12-04T12:51:52.814340600Z",
     "start_time": "2023-12-04T12:51:52.810336300Z"
    }
   },
   "id": "17d5f1af8bf17dbe"
  },
  {
   "cell_type": "code",
   "execution_count": 7,
   "outputs": [
    {
     "name": "stdout",
     "output_type": "stream",
     "text": [
      "Tracing encoder decoder model...\n"
     ]
    }
   ],
   "source": [
    "forward_fn_jit = jax.jit(forward_fn)\n",
    "_ = forward_fn_jit(model_weights, rng, jnp.ones((1, 1, 32, 32)), jnp.ones((1,)), rng)"
   ],
   "metadata": {
    "collapsed": false,
    "ExecuteTime": {
     "end_time": "2023-12-04T12:51:54.239296800Z",
     "start_time": "2023-12-04T12:51:53.634959600Z"
    }
   },
   "id": "5014054be01e889c"
  },
  {
   "cell_type": "markdown",
   "source": [
    "## Inference"
   ],
   "metadata": {
    "collapsed": false
   },
   "id": "43aae38f707eabd4"
  },
  {
   "cell_type": "code",
   "execution_count": 8,
   "outputs": [],
   "source": [
    "from evaluation.embedded_physics_eval import predict\n",
    "import jax.random as jr\n",
    "\n",
    "keys = [key[1] for key in generator.keys]"
   ],
   "metadata": {
    "collapsed": false,
    "ExecuteTime": {
     "end_time": "2023-12-04T12:51:56.682459300Z",
     "start_time": "2023-12-04T12:51:56.642263900Z"
    }
   },
   "id": "658ea34c6b6c08cf"
  },
  {
   "cell_type": "markdown",
   "source": [
    "Probability flow solution"
   ],
   "metadata": {
    "collapsed": false
   },
   "id": "4d9b9cf25c5bc117"
  },
  {
   "cell_type": "code",
   "execution_count": 9,
   "outputs": [
    {
     "name": "stderr",
     "output_type": "stream",
     "text": [
      "0it [00:00, ?it/s]"
     ]
    },
    {
     "name": "stdout",
     "output_type": "stream",
     "text": [
      "Tracing encoder decoder model...\n"
     ]
    },
    {
     "name": "stderr",
     "output_type": "stream",
     "text": [
      "32it [00:02, 11.32it/s]\n"
     ]
    }
   ],
   "source": [
    "pred_probability_flow = predict(generator, params, forward_fn_jit, model_weights, keys, jr.PRNGKey(0), version=3, realizations=1)\n"
   ],
   "metadata": {
    "collapsed": false,
    "ExecuteTime": {
     "end_time": "2023-12-04T12:52:03.240420400Z",
     "start_time": "2023-12-04T12:51:58.483436Z"
    }
   },
   "id": "2a1bb40c78373929"
  },
  {
   "cell_type": "markdown",
   "source": [
    "Reverse-time SDE solution"
   ],
   "metadata": {
    "collapsed": false
   },
   "id": "75aadf97eca2b7a6"
  },
  {
   "cell_type": "code",
   "execution_count": 10,
   "outputs": [
    {
     "name": "stderr",
     "output_type": "stream",
     "text": [
      "32it [00:00, 78.93it/s]\n",
      "32it [00:00, 81.61it/s]\n",
      "32it [00:00, 76.00it/s]\n"
     ]
    }
   ],
   "source": [
    "pred_reverse_sde = predict(generator, params, forward_fn_jit, model_weights, keys, jr.PRNGKey(0), version=0, realizations=3)"
   ],
   "metadata": {
    "collapsed": false,
    "ExecuteTime": {
     "end_time": "2023-12-04T12:52:06.724102400Z",
     "start_time": "2023-12-04T12:52:04.770729200Z"
    }
   },
   "id": "bae228a03390797f"
  },
  {
   "cell_type": "markdown",
   "source": [
    "## Visualize results"
   ],
   "metadata": {
    "collapsed": false
   },
   "id": "fcc95fbefa68f9b7"
  },
  {
   "cell_type": "code",
   "execution_count": 11,
   "outputs": [
    {
     "data": {
      "text/plain": "<Figure size 1500x300 with 5 Axes>",
      "image/png": "[encoded data removed]"
     },
     "metadata": {},
     "output_type": "display_data"
    }
   ],
   "source": [
    "idx = 0\n",
    "\n",
    "fig, axes = plt.subplots(1, 5, figsize=(15, 3))\n",
    "\n",
    "gt = (generator.load((list(generator.h5files.keys())[0], keys[idx]), transform=False)[...,0] - params['data_mean']) / params['data_std']\n",
    "\n",
    "vmin = np.min(gt)\n",
    "vmax = np.max(gt)\n",
    "\n",
    "axes[0].imshow(gt, cmap='jet')\n",
    "axes[0].set_title('Ground Truth')\n",
    "axes[0].set_xticks([])\n",
    "axes[0].set_yticks([])\n",
    "\n",
    "axes[1].imshow(pred_probability_flow['input'][idx], cmap='jet', vmin=vmin, vmax=vmax)\n",
    "axes[1].set_title('Input')\n",
    "axes[1].set_xticks([])\n",
    "axes[1].set_yticks([])\n",
    "\n",
    "axes[2].imshow(pred_probability_flow['prediction_0'][idx], cmap='jet', vmin=vmin, vmax=vmax)\n",
    "axes[2].set_title('Probability Flow ODE')\n",
    "axes[2].set_xticks([])\n",
    "axes[2].set_yticks([])\n",
    "\n",
    "axes[3].imshow(pred_reverse_sde['prediction_0'][idx], cmap='jet', vmin=vmin, vmax=vmax)\n",
    "axes[3].set_title('Reverse-time SDE - 0')\n",
    "axes[3].set_xticks([])\n",
    "axes[3].set_yticks([])\n",
    "\n",
    "axes[4].imshow(pred_reverse_sde['prediction_1'][idx], cmap='jet', vmin=vmin, vmax=vmax)\n",
    "axes[4].set_title('Reverse-time SDE - 1')\n",
    "axes[4].set_xticks([])\n",
    "axes[4].set_yticks([])\n",
    "\n",
    "# set axis grids on \n",
    "for ax in axes:\n",
    "    ax.grid(True)\n",
    "\n",
    "plt.tight_layout()\n",
    "plt.show()\n"
   ],
   "metadata": {
    "collapsed": false,
    "ExecuteTime": {
     "end_time": "2023-12-04T12:52:08.343261300Z",
     "start_time": "2023-12-04T12:52:07.429090700Z"
    }
   },
   "id": "b4c71a1a4af54a59"
  },
  {
   "cell_type": "code",
   "execution_count": null,
   "outputs": [],
   "source": [],
   "metadata": {
    "collapsed": false
   },
   "id": "bb24b270cc19f37e"
  }
 ],
 "metadata": {
  "kernelspec": {
   "name": "smdp",
   "language": "python",
   "display_name": "smdp"
  },
  "language_info": {
   "codemirror_mode": {
    "name": "ipython",
    "version": 2
   },
   "file_extension": ".py",
   "mimetype": "text/x-python",
   "name": "python",
   "nbconvert_exporter": "python",
   "pygments_lexer": "ipython2",
   "version": "2.7.6"
  }
 },
 "nbformat": 4,
 "nbformat_minor": 5
}
