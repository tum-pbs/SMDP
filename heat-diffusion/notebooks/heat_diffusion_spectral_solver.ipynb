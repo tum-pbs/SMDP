{
 "cells": [
  {
   "cell_type": "markdown",
   "source": [
    "## Stochastic Heat Equation with Spectral Solver\n",
    "\n",
    "This notebook shows how to implement the spectral solver and how to solve the heat equation (with and without noise) using the Euler method. "
   ],
   "metadata": {
    "collapsed": false
   },
   "id": "e934d089376d8c10"
  },
  {
   "cell_type": "markdown",
   "source": [
    "#### Load initial states\n",
    "\n",
    "First, we setup the environment and load the initial states. The initial states are generated using the code in the `data/gaussian_random_fields.ipynb`."
   ],
   "metadata": {
    "collapsed": false
   },
   "id": "3ea5f06f143f39cb"
  },
  {
   "cell_type": "code",
   "execution_count": 3,
   "outputs": [
    {
     "name": "stdout",
     "output_type": "stream",
     "text": [
      "Length: 2500\n"
     ]
    }
   ],
   "source": [
    "import os\n",
    "import h5py\n",
    "\n",
    "import sys\n",
    "\n",
    "sys.path.append(os.path.join(os.path.abspath(''), 'github', 'smdp', 'heat-diffusion'))\n",
    "\n",
    "from dataloader import DataLoader\n",
    "\n",
    "DATA_ROOT = os.path.join(os.path.abspath(''), 'github', 'smdp', 'heat-diffusion', 'data', 'files')\n",
    "\n",
    "dataset_name = '32/2d_gaussian_random_field_4'\n",
    "\n",
    "params = {'file': f'{DATA_ROOT}/{dataset_name}.h5', 'batch_size': 32}\n",
    "\n",
    "with h5py.File(params['file'], 'r') as f:\n",
    "    train_keys = list(f.keys())\n",
    "    train_keys = list(zip([params['file']] * len(train_keys), train_keys))\n",
    "    \n",
    "train_generator = DataLoader([params['file']], train_keys, params['batch_size'], name='train', shuffle=False)\n",
    "\n",
    "data = train_generator.__getitem__(0)[0, :, :, 0]"
   ],
   "metadata": {
    "collapsed": false,
    "ExecuteTime": {
     "end_time": "2023-11-27T10:48:38.515504200Z",
     "start_time": "2023-11-27T10:48:36.163767100Z"
    }
   },
   "id": "17b1651c1f7ad1b4"
  },
  {
   "cell_type": "markdown",
   "source": [
    "#### Visualize initial states    "
   ],
   "metadata": {
    "collapsed": false
   },
   "id": "2de734e5dc7ebffe"
  },
  {
   "cell_type": "code",
   "execution_count": 4,
   "outputs": [
    {
     "name": "stderr",
     "output_type": "stream",
     "text": [
      "/tmp/ipykernel_94870/1086971931.py:19: MatplotlibDeprecationWarning: Auto-removal of grids by pcolor() and pcolormesh() is deprecated since 3.5 and will be removed two minor releases later; please call grid(False) first.\n",
      "  fig.colorbar(im, cax=cbar_ax)\n"
     ]
    },
    {
     "data": {
      "text/plain": "<Figure size 400x400 with 2 Axes>",
      "image/png": "[encoded data removed]"
     },
     "metadata": {},
     "output_type": "display_data"
    }
   ],
   "source": [
    "from matplotlib import pyplot as plt\n",
    "\n",
    "fig, ax = plt.subplots(1, 1, figsize=(4, 4))\n",
    "\n",
    "vmin = data.min()\n",
    "vmax = data.max()\n",
    "vmin = min(vmin, -vmax)\n",
    "vmax = max(vmax, -vmin)\n",
    "\n",
    "im = ax.imshow(data, cmap='jet', vmin=vmin, vmax=vmax) \n",
    "ax.set_title(f'Initial state')\n",
    "\n",
    "ax.set_xticks([])\n",
    "ax.set_yticks([])\n",
    "\n",
    "# add colorbar \n",
    "fig.subplots_adjust(right=0.8)\n",
    "cbar_ax = fig.add_axes([0.85, 0.15, 0.06, 0.7])\n",
    "fig.colorbar(im, cax=cbar_ax)\n",
    "\n",
    "plt.show()"
   ],
   "metadata": {
    "collapsed": false,
    "ExecuteTime": {
     "end_time": "2023-11-27T10:48:40.143003900Z",
     "start_time": "2023-11-27T10:48:39.493495200Z"
    }
   },
   "id": "ae6e798c2f727072"
  },
  {
   "cell_type": "markdown",
   "source": [
    "### Spectral solver definition\n",
    "\n",
    "Next, we define the spectral solver. The solver is implemented using the `jax` library. \n",
    "We use fft to transform the field to the frequency domain, apply the scaling factor, and then transform back to the spatial domain."
   ],
   "metadata": {
    "collapsed": false
   },
   "id": "eeb31cafef61b21c"
  },
  {
   "cell_type": "code",
   "execution_count": 5,
   "outputs": [],
   "source": [
    "import jax.numpy as jnp\n",
    "import jax\n",
    "import numpy as np\n",
    "\n",
    "def heat_diffusion(initial_value, t1):\n",
    "    \"\"\"\n",
    "    Solves the heat equation using the spectral method. \n",
    "    :param initial_value: state at t=0\n",
    "    :param t1: simulation end time\n",
    "    :return: \n",
    "    \"\"\"\n",
    "   \n",
    "    field_fft = jnp.fft.fft2(jnp.array(initial_value))\n",
    "    field_shiftfft = jnp.fft.fftshift(field_fft)\n",
    "    field_shiftfft = jnp.array(field_shiftfft)\n",
    "\n",
    "    map_ = np.zeros(shape=field_fft.shape)\n",
    "    for i in range(field_fft.shape[0]):\n",
    "        for j in range(field_fft.shape[1]):\n",
    "            map_[i,j] = jnp.sqrt((i - field_fft.shape[0] / 2) ** 2 + (j - field_fft.shape[1] / 2) ** 2)\n",
    "\n",
    "    map_ = jnp.array(map_)\n",
    "\n",
    "    square_map = -jnp.square(map_)\n",
    "    scale_factor = jnp.exp(square_map * t1)\n",
    "    \n",
    "    field_shiftfft = field_shiftfft * scale_factor\n",
    "    \n",
    "    return jnp.real(jnp.fft.ifft2(jnp.fft.ifftshift(field_shiftfft)))"
   ],
   "metadata": {
    "collapsed": false,
    "ExecuteTime": {
     "end_time": "2023-11-27T10:48:41.445457900Z",
     "start_time": "2023-11-27T10:48:41.408036700Z"
    }
   },
   "id": "6f30bf644101d0c0"
  },
  {
   "cell_type": "markdown",
   "source": [
    "Call the solver to solve the heat equation for a given time."
   ],
   "metadata": {
    "collapsed": false
   },
   "id": "2178bf829276bb2f"
  },
  {
   "cell_type": "code",
   "execution_count": 6,
   "outputs": [],
   "source": [
    "t1 = 0.2\n",
    "data_t1_direct = heat_diffusion(data, t1) "
   ],
   "metadata": {
    "collapsed": false,
    "ExecuteTime": {
     "end_time": "2023-11-27T10:48:43.754103100Z",
     "start_time": "2023-11-27T10:48:42.605496700Z"
    }
   },
   "id": "8a0ae0cb41fad4c0"
  },
  {
   "cell_type": "code",
   "execution_count": 7,
   "outputs": [
    {
     "name": "stderr",
     "output_type": "stream",
     "text": [
      "/tmp/ipykernel_94870/312093810.py:12: MatplotlibDeprecationWarning: Auto-removal of grids by pcolor() and pcolormesh() is deprecated since 3.5 and will be removed two minor releases later; please call grid(False) first.\n",
      "  fig.colorbar(im, cax=cbar_ax)\n"
     ]
    },
    {
     "data": {
      "text/plain": "<Figure size 400x400 with 2 Axes>",
      "image/png": "[encoded data removed]"
     },
     "metadata": {},
     "output_type": "display_data"
    }
   ],
   "source": [
    "fig, ax = plt.subplots(1, 1, figsize=(4, 4))\n",
    "\n",
    "ax.set_xticks([])\n",
    "ax.set_yticks([])\n",
    "\n",
    "im = ax.imshow(data_t1_direct, cmap='jet', vmin=vmin, vmax=vmax) \n",
    "ax.set_title(f'Spectral solver')\n",
    "\n",
    "# add colorbar \n",
    "fig.subplots_adjust(right=0.8)\n",
    "cbar_ax = fig.add_axes([0.85, 0.15, 0.06, 0.7])\n",
    "fig.colorbar(im, cax=cbar_ax)\n",
    "\n",
    "plt.show()"
   ],
   "metadata": {
    "collapsed": false,
    "ExecuteTime": {
     "end_time": "2023-11-27T10:48:44.493042400Z",
     "start_time": "2023-11-27T10:48:44.345127700Z"
    }
   },
   "id": "431ec999cb31c13"
  },
  {
   "cell_type": "markdown",
   "source": [
    "#### Including noise and solving the heat equation with the Euler-Maruyama method and `diffrax`. \n",
    "\n",
    "To include the noise term and solve the SDE, we use the `diffrax` library."
   ],
   "metadata": {
    "collapsed": false
   },
   "id": "de4b62092eaeb737"
  },
  {
   "cell_type": "code",
   "execution_count": 8,
   "outputs": [
    {
     "name": "stderr",
     "output_type": "stream",
     "text": [
      "/home/benjamin/anaconda3/envs/smdp/lib/python3.8/site-packages/diffrax/custom_types.py:133: FutureWarning: jax.tree_structure is deprecated, and will be removed in a future release. Use jax.tree_util.tree_structure instead.\n",
      "  PyTreeDef = type(jax.tree_structure(0))\n",
      "/home/benjamin/anaconda3/envs/smdp/lib/python3.8/site-packages/diffrax/solver/runge_kutta.py:116: FutureWarning: jax.tree_structure is deprecated, and will be removed in a future release. Use jax.tree_util.tree_structure instead.\n",
      "  term_structure = jax.tree_structure(0)\n",
      "/home/benjamin/anaconda3/envs/smdp/lib/python3.8/site-packages/diffrax/solver/euler.py:25: FutureWarning: jax.tree_structure is deprecated, and will be removed in a future release. Use jax.tree_util.tree_structure instead.\n",
      "  term_structure = jax.tree_structure(0)\n",
      "/home/benjamin/anaconda3/envs/smdp/lib/python3.8/site-packages/diffrax/solver/euler_heun.py:23: FutureWarning: jax.tree_structure is deprecated, and will be removed in a future release. Use jax.tree_util.tree_structure instead.\n",
      "  term_structure = jax.tree_structure((0, 0))\n",
      "/home/benjamin/anaconda3/envs/smdp/lib/python3.8/site-packages/diffrax/solver/implicit_euler.py:29: FutureWarning: jax.tree_structure is deprecated, and will be removed in a future release. Use jax.tree_util.tree_structure instead.\n",
      "  term_structure = jax.tree_structure(0)\n",
      "/home/benjamin/anaconda3/envs/smdp/lib/python3.8/site-packages/diffrax/solver/leapfrog_midpoint.py:43: FutureWarning: jax.tree_structure is deprecated, and will be removed in a future release. Use jax.tree_util.tree_structure instead.\n",
      "  term_structure = jax.tree_structure(0)\n",
      "/home/benjamin/anaconda3/envs/smdp/lib/python3.8/site-packages/diffrax/solver/milstein.py:38: FutureWarning: jax.tree_structure is deprecated, and will be removed in a future release. Use jax.tree_util.tree_structure instead.\n",
      "  term_structure = jax.tree_structure((0, 0))\n",
      "/home/benjamin/anaconda3/envs/smdp/lib/python3.8/site-packages/diffrax/solver/milstein.py:86: FutureWarning: jax.tree_structure is deprecated, and will be removed in a future release. Use jax.tree_util.tree_structure instead.\n",
      "  term_structure = jax.tree_structure((0, 0))\n",
      "/home/benjamin/anaconda3/envs/smdp/lib/python3.8/site-packages/diffrax/solver/reversible_heun.py:37: FutureWarning: jax.tree_structure is deprecated, and will be removed in a future release. Use jax.tree_util.tree_structure instead.\n",
      "  term_structure = jax.tree_structure(0)\n",
      "/home/benjamin/anaconda3/envs/smdp/lib/python3.8/site-packages/diffrax/solver/semi_implicit_euler.py:23: FutureWarning: jax.tree_structure is deprecated, and will be removed in a future release. Use jax.tree_util.tree_structure instead.\n",
      "  term_structure = jax.tree_structure((0, 0))\n"
     ]
    }
   ],
   "source": [
    "import jax.random as jrandom\n",
    "from diffrax import diffeqsolve, ControlTerm, Euler, MultiTerm, ODETerm, SaveAt, VirtualBrownianTree, WeaklyDiagonalControlTerm\n",
    "import jax.numpy as jnp\n",
    "from tqdm import tqdm\n",
    "\n",
    "def stochastic_heat_diffusion(initial_value, dt0=0.01, t1=2.0, noise_scaling = 0.1):\n",
    " \n",
    "    t0 = 0\n",
    "\n",
    "    initial_shape = initial_value.shape\n",
    "\n",
    "    diffusion = lambda t, y, args: noise_scaling * jnp.ones(initial_shape)\n",
    "\n",
    "    map_ = np.zeros(shape=initial_shape)\n",
    "    for i in range(initial_shape[0]):\n",
    "        for j in range(initial_shape[1]):\n",
    "            map_[i,j] = jnp.sqrt((i - initial_shape[0] / 2) ** 2 + (j - initial_shape[1] / 2) ** 2)\n",
    "\n",
    "    map_ = jnp.array(map_)\n",
    "\n",
    "    square_map = -jnp.square(map_)\n",
    "    scale_factor = jnp.exp(square_map * dt0)\n",
    "    \n",
    "    y0 = initial_value\n",
    "\n",
    "    def drift(t, y, args):\n",
    "        \n",
    "        field_fft = jnp.fft.fft2(jnp.array(y))\n",
    "        field_shiftfft = jnp.fft.fftshift(field_fft)\n",
    "        field_shiftfft = jnp.array(field_shiftfft)\n",
    "\n",
    "        field_updated = scale_factor * field_shiftfft\n",
    "        field_difference = field_updated - field_shiftfft\n",
    "\n",
    "        drift = jnp.real(jnp.fft.ifft2(jnp.fft.ifftshift(field_difference)))\n",
    "        \n",
    "        return drift / dt0\n",
    "\n",
    "    args = None\n",
    "\n",
    "    brownian_motion = VirtualBrownianTree(t0, t1, tol=1e-3, shape=initial_shape, key=jrandom.PRNGKey(0))\n",
    "    terms = MultiTerm(ODETerm(drift), WeaklyDiagonalControlTerm(diffusion, brownian_motion))\n",
    "\n",
    "    solver = Euler()\n",
    "    saveat = SaveAt(dense=True)\n",
    "    sol = diffeqsolve(terms, solver, t0, t1, dt0=dt0, y0=y0, saveat=saveat)\n",
    "    return sol"
   ],
   "metadata": {
    "collapsed": false,
    "ExecuteTime": {
     "end_time": "2023-11-27T10:48:46.326904Z",
     "start_time": "2023-11-27T10:48:46.204954800Z"
    }
   },
   "id": "26ddec8d8e3ba2f5"
  },
  {
   "cell_type": "markdown",
   "source": [
    "First, we solve the heat equation with the Euler method and set the noise to zero. This should be the same as the direct solution. \n",
    "Then we include the noise term and set the noise scaling to 0.1."
   ],
   "metadata": {
    "collapsed": false
   },
   "id": "f0ec9eda7a6c81ab"
  },
  {
   "cell_type": "code",
   "execution_count": 10,
   "outputs": [
    {
     "name": "stderr",
     "output_type": "stream",
     "text": [
      "/home/benjamin/anaconda3/envs/smdp/lib/python3.8/site-packages/diffrax/integrate.py:617: FutureWarning: jax.tree_flatten is deprecated, and will be removed in a future release. Use jax.tree_util.tree_flatten instead.\n",
      "  term_leaves, term_structure = jax.tree_flatten(\n",
      "/home/benjamin/anaconda3/envs/smdp/lib/python3.8/site-packages/diffrax/heuristics.py:21: FutureWarning: jax.tree_flatten is deprecated, and will be removed in a future release. Use jax.tree_util.tree_flatten instead.\n",
      "  leaves, _ = jax.tree_flatten(terms, is_leaf=is_brownian)\n",
      "/home/benjamin/anaconda3/envs/smdp/lib/python3.8/site-packages/diffrax/heuristics.py:27: FutureWarning: jax.tree_flatten is deprecated, and will be removed in a future release. Use jax.tree_util.tree_flatten instead.\n",
      "  leaves, _ = jax.tree_flatten(terms, is_leaf=is_brownian)\n",
      "/home/benjamin/anaconda3/envs/smdp/lib/python3.8/site-packages/diffrax/misc/omega.py:81: FutureWarning: jax.tree_structure is deprecated, and will be removed in a future release. Use jax.tree_util.tree_structure instead.\n",
      "  if jax.tree_structure(self.ω) != jax.tree_structure(other.ω):\n",
      "/home/benjamin/anaconda3/envs/smdp/lib/python3.8/site-packages/diffrax/integrate.py:617: FutureWarning: jax.tree_flatten is deprecated, and will be removed in a future release. Use jax.tree_util.tree_flatten instead.\n",
      "  term_leaves, term_structure = jax.tree_flatten(\n",
      "/home/benjamin/anaconda3/envs/smdp/lib/python3.8/site-packages/diffrax/heuristics.py:21: FutureWarning: jax.tree_flatten is deprecated, and will be removed in a future release. Use jax.tree_util.tree_flatten instead.\n",
      "  leaves, _ = jax.tree_flatten(terms, is_leaf=is_brownian)\n",
      "/home/benjamin/anaconda3/envs/smdp/lib/python3.8/site-packages/diffrax/heuristics.py:27: FutureWarning: jax.tree_flatten is deprecated, and will be removed in a future release. Use jax.tree_util.tree_flatten instead.\n",
      "  leaves, _ = jax.tree_flatten(terms, is_leaf=is_brownian)\n",
      "/home/benjamin/anaconda3/envs/smdp/lib/python3.8/site-packages/diffrax/misc/omega.py:81: FutureWarning: jax.tree_structure is deprecated, and will be removed in a future release. Use jax.tree_util.tree_structure instead.\n",
      "  if jax.tree_structure(self.ω) != jax.tree_structure(other.ω):\n"
     ]
    }
   ],
   "source": [
    "dt = 0.01\n",
    "noise_scaling = 0.1\n",
    "\n",
    "data_t1_euler = stochastic_heat_diffusion(data, dt0=0.01, t1=t1, noise_scaling=0.0)\n",
    "data_t1_euler_noise = stochastic_heat_diffusion(data, dt0=0.01, t1=t1, noise_scaling=noise_scaling)"
   ],
   "metadata": {
    "collapsed": false,
    "ExecuteTime": {
     "end_time": "2023-11-27T10:49:06.717073700Z",
     "start_time": "2023-11-27T10:49:03.935701200Z"
    }
   },
   "id": "f0c2eec9726332a5"
  },
  {
   "cell_type": "markdown",
   "source": [
    "Finally, we visualize all three solutions."
   ],
   "metadata": {
    "collapsed": false
   },
   "id": "9f27da9c7edb4692"
  },
  {
   "cell_type": "code",
   "execution_count": 12,
   "outputs": [
    {
     "name": "stderr",
     "output_type": "stream",
     "text": [
      "/tmp/ipykernel_94870/2600180121.py:21: MatplotlibDeprecationWarning: Auto-removal of grids by pcolor() and pcolormesh() is deprecated since 3.5 and will be removed two minor releases later; please call grid(False) first.\n",
      "  fig.colorbar(im, cax=cbar_ax)\n"
     ]
    },
    {
     "data": {
      "text/plain": "<Figure size 1200x400 with 4 Axes>",
      "image/png": "[encoded data removed]"
     },
     "metadata": {},
     "output_type": "display_data"
    }
   ],
   "source": [
    "fig, axs = plt.subplots(1, 3, figsize=(12, 4))\n",
    "\n",
    "axs[0].imshow(data_t1_direct, cmap='jet', vmin=vmin, vmax=vmax)\n",
    "axs[0].set_title('Spectral solver')\n",
    "\n",
    "axs[1].imshow(data_t1_euler.evaluate(t1), cmap='jet', vmin=vmin, vmax=vmax)\n",
    "axs[1].set_title(f'Euler steps ($\\Delta t = {dt}$)')\n",
    "\n",
    "im = axs[2].imshow(data_t1_euler_noise.evaluate(t1), cmap='jet', vmin=vmin, vmax=vmax)\n",
    "axs[2].set_title(f'Euler steps ($\\Delta t = {dt}$) with noise')\n",
    "\n",
    "for i in range(3):\n",
    "    axs[i].set_xticks([])\n",
    "    axs[i].set_yticks([])\n",
    "    axs[i].patch.set_edgecolor('black')  \n",
    "    axs[i].patch.set_linewidth(3) \n",
    "\n",
    "# add colorbar \n",
    "fig.subplots_adjust(right=0.8)\n",
    "cbar_ax = fig.add_axes([0.85, 0.15, 0.02, 0.7])\n",
    "fig.colorbar(im, cax=cbar_ax)\n",
    "  \n",
    "plt.show()"
   ],
   "metadata": {
    "collapsed": false,
    "ExecuteTime": {
     "end_time": "2023-11-27T10:50:22.715533600Z",
     "start_time": "2023-11-27T10:50:22.505768300Z"
    }
   },
   "id": "5f7f13dddcb1e575"
  }
 ],
 "metadata": {
  "kernelspec": {
   "name": "smdp",
   "language": "python",
   "display_name": "smdp"
  },
  "language_info": {
   "codemirror_mode": {
    "name": "ipython",
    "version": 2
   },
   "file_extension": ".py",
   "mimetype": "text/x-python",
   "name": "python",
   "nbconvert_exporter": "python",
   "pygments_lexer": "ipython2",
   "version": "2.7.6"
  }
 },
 "nbformat": 4,
 "nbformat_minor": 5
}
